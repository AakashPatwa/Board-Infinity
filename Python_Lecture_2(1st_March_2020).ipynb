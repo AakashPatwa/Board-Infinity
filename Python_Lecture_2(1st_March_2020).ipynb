{
  "nbformat": 4,
  "nbformat_minor": 0,
  "metadata": {
    "colab": {
      "name": "Python_Lecture_2(1st March 2020).ipynb",
      "provenance": [],
      "authorship_tag": "ABX9TyOvjixaUOPAq7jav0YBKlOG",
      "include_colab_link": true
    },
    "kernelspec": {
      "name": "python3",
      "display_name": "Python 3"
    },
    "accelerator": "GPU"
  },
  "cells": [
    {
      "cell_type": "markdown",
      "metadata": {
        "id": "view-in-github",
        "colab_type": "text"
      },
      "source": [
        "<a href=\"https://colab.research.google.com/github/AakashPatwa/Board-Infinity/blob/master/Python_Lecture_2(1st_March_2020).ipynb\" target=\"_parent\"><img src=\"https://colab.research.google.com/assets/colab-badge.svg\" alt=\"Open In Colab\"/></a>"
      ]
    },
    {
      "cell_type": "code",
      "metadata": {
        "id": "DpPS--c_1G25",
        "colab_type": "code",
        "colab": {
          "base_uri": "https://localhost:8080/",
          "height": 34
        },
        "outputId": "28baa9fa-2354-4a43-dd45-811d82da0966"
      },
      "source": [
        "age = 25\n",
        "if age > 60 :\n",
        "  print('Senior Citizen')\n",
        "else:\n",
        "  print('Adult')\n"
      ],
      "execution_count": 2,
      "outputs": [
        {
          "output_type": "stream",
          "text": [
            "Adult\n"
          ],
          "name": "stdout"
        }
      ]
    },
    {
      "cell_type": "code",
      "metadata": {
        "id": "yEeCQnwU1vbd",
        "colab_type": "code",
        "colab": {
          "base_uri": "https://localhost:8080/",
          "height": 134
        },
        "outputId": "b5712977-942f-437b-8b47-f0f074f84f08"
      },
      "source": [
        "#bank giving a loan only if income > 50k\n",
        "\n",
        "#define input variable for income\n",
        "print('Enter Your Income \\n')\n",
        "income = int(input())\n",
        "\n",
        "#define an input for variable for ongoing-loan of type boolean\n",
        "print('Do You Have An Ongoing Loan \\n')\n",
        "ongoing_loan = str(input())\n",
        "\n",
        "#start the IF Statement\n",
        "if income > 50000 :\n",
        "  if ongoing_loan == 'yes' :\n",
        "   print('sorry you are not eligible')\n",
        "  else:\n",
        "    print('congrats you can get a loan upto 25000')\n",
        "else:\n",
        "   print('Sorry you are not eligible')\n"
      ],
      "execution_count": 21,
      "outputs": [
        {
          "output_type": "stream",
          "text": [
            "Enter Your Income \n",
            "\n",
            "50000\n",
            "Do You Have An Ongoing Loan \n",
            "\n",
            "\n",
            "Sorry you are not eligible\n"
          ],
          "name": "stdout"
        }
      ]
    },
    {
      "cell_type": "code",
      "metadata": {
        "id": "0hMKHFm0DEhz",
        "colab_type": "code",
        "colab": {
          "base_uri": "https://localhost:8080/",
          "height": 185
        },
        "outputId": "3a6935f4-18cc-4e90-d286-8a3517b26aaf"
      },
      "source": [
        "  #looping is a continious process\n",
        "number = [5,7,9,11,13,15,17,19,21,23]\n",
        "\n",
        "#print the numbers in the list\n",
        "for list in number:\n",
        "  print(list)"
      ],
      "execution_count": 1,
      "outputs": [
        {
          "output_type": "stream",
          "text": [
            "5\n",
            "7\n",
            "9\n",
            "11\n",
            "13\n",
            "15\n",
            "17\n",
            "19\n",
            "21\n",
            "23\n"
          ],
          "name": "stdout"
        }
      ]
    },
    {
      "cell_type": "code",
      "metadata": {
        "id": "7VApqaCYUA3p",
        "colab_type": "code",
        "colab": {
          "base_uri": "https://localhost:8080/",
          "height": 101
        },
        "outputId": "27a5d7dc-23e9-4fa7-e770-ecc2d60cf9f3"
      },
      "source": [
        "#list of numbers print only odd numbers\n",
        "numbers = [1,2,3,4,5,6,7,8,9,0]\n",
        "\n",
        "for x in numbers:\n",
        "  if x%2 != 0:\n",
        "    print(x)"
      ],
      "execution_count": 5,
      "outputs": [
        {
          "output_type": "stream",
          "text": [
            "1\n",
            "3\n",
            "5\n",
            "7\n",
            "9\n"
          ],
          "name": "stdout"
        }
      ]
    },
    {
      "cell_type": "code",
      "metadata": {
        "id": "dLwc1_NGWfRg",
        "colab_type": "code",
        "colab": {}
      },
      "source": [
        "#Retrive the Wine dataset from sci kit learn\n",
        "from sklearn import datasets"
      ],
      "execution_count": 0,
      "outputs": []
    },
    {
      "cell_type": "code",
      "metadata": {
        "id": "eBAw6pwjawQF",
        "colab_type": "code",
        "colab": {
          "base_uri": "https://localhost:8080/",
          "height": 34
        },
        "outputId": "c11eb3f4-bd0f-4614-c63d-de0982ceca9c"
      },
      "source": [
        "datasets.load_wine().keys()"
      ],
      "execution_count": 7,
      "outputs": [
        {
          "output_type": "execute_result",
          "data": {
            "text/plain": [
              "dict_keys(['data', 'target', 'target_names', 'DESCR', 'feature_names'])"
            ]
          },
          "metadata": {
            "tags": []
          },
          "execution_count": 7
        }
      ]
    },
    {
      "cell_type": "code",
      "metadata": {
        "id": "at0H7Lz8a389",
        "colab_type": "code",
        "colab": {
          "base_uri": "https://localhost:8080/",
          "height": 235
        },
        "outputId": "b1339555-7521-4e5d-d850-ecbd67750707"
      },
      "source": [
        "datasets.load_wine()['feature_names']"
      ],
      "execution_count": 9,
      "outputs": [
        {
          "output_type": "execute_result",
          "data": {
            "text/plain": [
              "['alcohol',\n",
              " 'malic_acid',\n",
              " 'ash',\n",
              " 'alcalinity_of_ash',\n",
              " 'magnesium',\n",
              " 'total_phenols',\n",
              " 'flavanoids',\n",
              " 'nonflavanoid_phenols',\n",
              " 'proanthocyanins',\n",
              " 'color_intensity',\n",
              " 'hue',\n",
              " 'od280/od315_of_diluted_wines',\n",
              " 'proline']"
            ]
          },
          "metadata": {
            "tags": []
          },
          "execution_count": 9
        }
      ]
    },
    {
      "cell_type": "markdown",
      "metadata": {
        "id": "54l-MuIie7bx",
        "colab_type": "text"
      },
      "source": [
        "Function | Methods\n"
      ]
    },
    {
      "cell_type": "code",
      "metadata": {
        "id": "ZB5P8jK-fCbs",
        "colab_type": "code",
        "colab": {}
      },
      "source": [
        "student1 = {'name' : 'Aakash', 'age' : '25', 'gender' : 'male'}\n",
        "student2 = {'name' : 'Rohit', 'age' : '52', 'gender' : 'male'}\n",
        "student3 = {'name' : 'Xeen', 'age' : '35', 'gender' : 'female'}"
      ],
      "execution_count": 0,
      "outputs": []
    },
    {
      "cell_type": "code",
      "metadata": {
        "id": "WQwWGroIfpDV",
        "colab_type": "code",
        "colab": {}
      },
      "source": [
        "def students(my_dict) :\n",
        "  return my_dict.keys()"
      ],
      "execution_count": 0,
      "outputs": []
    },
    {
      "cell_type": "code",
      "metadata": {
        "id": "5JO6bo-wgNHU",
        "colab_type": "code",
        "colab": {
          "base_uri": "https://localhost:8080/",
          "height": 34
        },
        "outputId": "79b82a15-f8e6-4883-8c3c-6af8a2efaedf"
      },
      "source": [
        "students(student2)"
      ],
      "execution_count": 23,
      "outputs": [
        {
          "output_type": "execute_result",
          "data": {
            "text/plain": [
              "dict_keys(['name', 'age', 'gender'])"
            ]
          },
          "metadata": {
            "tags": []
          },
          "execution_count": 23
        }
      ]
    },
    {
      "cell_type": "code",
      "metadata": {
        "id": "B_unrp4sgtIw",
        "colab_type": "code",
        "colab": {}
      },
      "source": [
        "def students(my_dict) :\n",
        "  return my_dict.values()"
      ],
      "execution_count": 0,
      "outputs": []
    },
    {
      "cell_type": "code",
      "metadata": {
        "id": "drJsihsvhGKb",
        "colab_type": "code",
        "colab": {
          "base_uri": "https://localhost:8080/",
          "height": 34
        },
        "outputId": "7c4afcc4-2c40-4a7d-9503-c5d8d3b2c3ea"
      },
      "source": [
        "students(student2)"
      ],
      "execution_count": 26,
      "outputs": [
        {
          "output_type": "execute_result",
          "data": {
            "text/plain": [
              "dict_values(['Rohit', '52', 'male'])"
            ]
          },
          "metadata": {
            "tags": []
          },
          "execution_count": 26
        }
      ]
    },
    {
      "cell_type": "code",
      "metadata": {
        "id": "CvlOI3PBlf6t",
        "colab_type": "code",
        "colab": {}
      },
      "source": [
        "numbers = [1,2,3,4,5,6,7,8,9,0]\n",
        "def number(list) :\n",
        "  for x in list:\n",
        "    if x%2 == 0:\n",
        "      print(x)"
      ],
      "execution_count": 0,
      "outputs": []
    },
    {
      "cell_type": "code",
      "metadata": {
        "id": "6o0hg2Y2pMPq",
        "colab_type": "code",
        "colab": {
          "base_uri": "https://localhost:8080/",
          "height": 101
        },
        "outputId": "b256dd84-391b-42a6-a56a-a0c61859c9b5"
      },
      "source": [
        "number(numbers)"
      ],
      "execution_count": 50,
      "outputs": [
        {
          "output_type": "stream",
          "text": [
            "2\n",
            "4\n",
            "6\n",
            "8\n",
            "0\n"
          ],
          "name": "stdout"
        }
      ]
    },
    {
      "cell_type": "code",
      "metadata": {
        "id": "XMEjTssmpYJ6",
        "colab_type": "code",
        "colab": {}
      },
      "source": [
        "name = 'Aakash'\n",
        "age = 25 \n",
        "gender = 'Male'\n",
        "percentage = 81.4\n",
        "height = 177\n",
        "Male = True"
      ],
      "execution_count": 0,
      "outputs": []
    },
    {
      "cell_type": "code",
      "metadata": {
        "id": "umtAlUEDy5YB",
        "colab_type": "code",
        "colab": {
          "base_uri": "https://localhost:8080/",
          "height": 34
        },
        "outputId": "a9d4328d-6035-4727-ddf1-a8580b71a77c"
      },
      "source": [
        "type (name)"
      ],
      "execution_count": 56,
      "outputs": [
        {
          "output_type": "execute_result",
          "data": {
            "text/plain": [
              "str"
            ]
          },
          "metadata": {
            "tags": []
          },
          "execution_count": 56
        }
      ]
    },
    {
      "cell_type": "code",
      "metadata": {
        "id": "J_m5jW1R0oiu",
        "colab_type": "code",
        "colab": {
          "base_uri": "https://localhost:8080/",
          "height": 34
        },
        "outputId": "7bad59a3-10b5-4571-93c4-fb61169467de"
      },
      "source": [
        "type (age)"
      ],
      "execution_count": 71,
      "outputs": [
        {
          "output_type": "execute_result",
          "data": {
            "text/plain": [
              "int"
            ]
          },
          "metadata": {
            "tags": []
          },
          "execution_count": 71
        }
      ]
    },
    {
      "cell_type": "code",
      "metadata": {
        "id": "vUd30aon0qhb",
        "colab_type": "code",
        "colab": {}
      },
      "source": [
        "age = float(age)"
      ],
      "execution_count": 0,
      "outputs": []
    },
    {
      "cell_type": "code",
      "metadata": {
        "id": "Zo1UVA660zZF",
        "colab_type": "code",
        "colab": {
          "base_uri": "https://localhost:8080/",
          "height": 34
        },
        "outputId": "42e04246-b32b-4195-8ce7-9cf63b19a935"
      },
      "source": [
        "float(age)"
      ],
      "execution_count": 73,
      "outputs": [
        {
          "output_type": "execute_result",
          "data": {
            "text/plain": [
              "25.0"
            ]
          },
          "metadata": {
            "tags": []
          },
          "execution_count": 73
        }
      ]
    },
    {
      "cell_type": "code",
      "metadata": {
        "id": "GHC2pLPf01Ch",
        "colab_type": "code",
        "colab": {}
      },
      "source": [
        "percentage = str(percentage)"
      ],
      "execution_count": 0,
      "outputs": []
    },
    {
      "cell_type": "code",
      "metadata": {
        "id": "NF39r_hQ1BBW",
        "colab_type": "code",
        "colab": {
          "base_uri": "https://localhost:8080/",
          "height": 34
        },
        "outputId": "488a9a99-9c20-4cd5-d09b-eeddd84b1b2e"
      },
      "source": [
        "str(percentage)"
      ],
      "execution_count": 75,
      "outputs": [
        {
          "output_type": "execute_result",
          "data": {
            "text/plain": [
              "'81.4'"
            ]
          },
          "metadata": {
            "tags": []
          },
          "execution_count": 75
        }
      ]
    },
    {
      "cell_type": "code",
      "metadata": {
        "id": "C4hTMDff1D3K",
        "colab_type": "code",
        "colab": {
          "base_uri": "https://localhost:8080/",
          "height": 34
        },
        "outputId": "ab540482-213c-4327-f7a8-8a1456ce9488"
      },
      "source": [
        "type (age)"
      ],
      "execution_count": 80,
      "outputs": [
        {
          "output_type": "execute_result",
          "data": {
            "text/plain": [
              "float"
            ]
          },
          "metadata": {
            "tags": []
          },
          "execution_count": 80
        }
      ]
    },
    {
      "cell_type": "code",
      "metadata": {
        "id": "5TAKwVOV2UpK",
        "colab_type": "code",
        "colab": {}
      },
      "source": [
        "age = int(age)"
      ],
      "execution_count": 0,
      "outputs": []
    },
    {
      "cell_type": "code",
      "metadata": {
        "id": "Z53YiExp2Xx0",
        "colab_type": "code",
        "colab": {
          "base_uri": "https://localhost:8080/",
          "height": 34
        },
        "outputId": "72913302-f50a-4665-ec32-d185127938f8"
      },
      "source": [
        "type(age)"
      ],
      "execution_count": 82,
      "outputs": [
        {
          "output_type": "execute_result",
          "data": {
            "text/plain": [
              "int"
            ]
          },
          "metadata": {
            "tags": []
          },
          "execution_count": 82
        }
      ]
    },
    {
      "cell_type": "code",
      "metadata": {
        "id": "nc2nvbJP2bcR",
        "colab_type": "code",
        "colab": {}
      },
      "source": [
        "age = str(age)"
      ],
      "execution_count": 0,
      "outputs": []
    },
    {
      "cell_type": "code",
      "metadata": {
        "id": "3SbtKo812gEj",
        "colab_type": "code",
        "colab": {
          "base_uri": "https://localhost:8080/",
          "height": 34
        },
        "outputId": "e768124b-1ae1-4e5c-f924-18298a566ba6"
      },
      "source": [
        "type (age)"
      ],
      "execution_count": 84,
      "outputs": [
        {
          "output_type": "execute_result",
          "data": {
            "text/plain": [
              "str"
            ]
          },
          "metadata": {
            "tags": []
          },
          "execution_count": 84
        }
      ]
    },
    {
      "cell_type": "code",
      "metadata": {
        "id": "kSk3o56l2l2b",
        "colab_type": "code",
        "colab": {
          "base_uri": "https://localhost:8080/",
          "height": 34
        },
        "outputId": "91210300-28db-4ac3-d25d-643fdde2cde6"
      },
      "source": [
        "type (Male)"
      ],
      "execution_count": 86,
      "outputs": [
        {
          "output_type": "execute_result",
          "data": {
            "text/plain": [
              "bool"
            ]
          },
          "metadata": {
            "tags": []
          },
          "execution_count": 86
        }
      ]
    },
    {
      "cell_type": "code",
      "metadata": {
        "id": "j6rG3Mhx3BOh",
        "colab_type": "code",
        "colab": {}
      },
      "source": [
        "Male = str(Male)"
      ],
      "execution_count": 0,
      "outputs": []
    },
    {
      "cell_type": "code",
      "metadata": {
        "id": "2c7UgWhO3HqR",
        "colab_type": "code",
        "colab": {
          "base_uri": "https://localhost:8080/",
          "height": 34
        },
        "outputId": "28c254fc-5d46-4acf-f83d-8f371f09eb42"
      },
      "source": [
        "type (Male)"
      ],
      "execution_count": 88,
      "outputs": [
        {
          "output_type": "execute_result",
          "data": {
            "text/plain": [
              "str"
            ]
          },
          "metadata": {
            "tags": []
          },
          "execution_count": 88
        }
      ]
    },
    {
      "cell_type": "code",
      "metadata": {
        "id": "dIJ06rVy3Jgq",
        "colab_type": "code",
        "colab": {
          "base_uri": "https://localhost:8080/",
          "height": 168
        },
        "outputId": "eaf85961-94fc-4520-e1ab-c4a67245a3c7"
      },
      "source": [
        "pip install word2number"
      ],
      "execution_count": 90,
      "outputs": [
        {
          "output_type": "stream",
          "text": [
            "Collecting word2number\n",
            "  Downloading https://files.pythonhosted.org/packages/4a/29/a31940c848521f0725f0df6b25dca8917f13a2025b0e8fcbe5d0457e45e6/word2number-1.1.zip\n",
            "Building wheels for collected packages: word2number\n",
            "  Building wheel for word2number (setup.py) ... \u001b[?25l\u001b[?25hdone\n",
            "  Created wheel for word2number: filename=word2number-1.1-cp36-none-any.whl size=5587 sha256=d8a2c8e049c9bca13e43539ec8e34f84c84780cf649b469fbe822960321ae690\n",
            "  Stored in directory: /root/.cache/pip/wheels/46/2f/53/5f5c1d275492f2fce1cdab9a9bb12d49286dead829a4078e0e\n",
            "Successfully built word2number\n",
            "Installing collected packages: word2number\n",
            "Successfully installed word2number-1.1\n"
          ],
          "name": "stdout"
        }
      ]
    },
    {
      "cell_type": "code",
      "metadata": {
        "id": "4ScScQfX8UOL",
        "colab_type": "code",
        "colab": {}
      },
      "source": [
        "import word2number\n",
        "from word2number import w2n"
      ],
      "execution_count": 0,
      "outputs": []
    },
    {
      "cell_type": "code",
      "metadata": {
        "id": "dnOh4-7o8jR1",
        "colab_type": "code",
        "colab": {
          "base_uri": "https://localhost:8080/",
          "height": 34
        },
        "outputId": "d1f73a0a-3fb1-461a-bd8a-311a41c49267"
      },
      "source": [
        "w2n.word_to_num(\"eight thousand\")"
      ],
      "execution_count": 93,
      "outputs": [
        {
          "output_type": "execute_result",
          "data": {
            "text/plain": [
              "8000"
            ]
          },
          "metadata": {
            "tags": []
          },
          "execution_count": 93
        }
      ]
    },
    {
      "cell_type": "code",
      "metadata": {
        "id": "PAjDt10l8phA",
        "colab_type": "code",
        "colab": {}
      },
      "source": [
        "#decision tree\n",
        "from sklearn.tree import DecisionTreeClassifier"
      ],
      "execution_count": 0,
      "outputs": []
    },
    {
      "cell_type": "code",
      "metadata": {
        "id": "0Hu58q7uEghl",
        "colab_type": "code",
        "colab": {}
      },
      "source": [
        "#GaussianNB\n",
        "from sklearn.naive_bayes import GaussianNB"
      ],
      "execution_count": 0,
      "outputs": []
    },
    {
      "cell_type": "code",
      "metadata": {
        "id": "iRRE1cK7Ev-1",
        "colab_type": "code",
        "colab": {}
      },
      "source": [
        ""
      ],
      "execution_count": 0,
      "outputs": []
    }
  ]
}