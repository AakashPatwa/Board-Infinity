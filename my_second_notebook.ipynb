{
  "nbformat": 4,
  "nbformat_minor": 0,
  "metadata": {
    "colab": {
      "name": "my second notebook.ipynb",
      "provenance": [],
      "authorship_tag": "ABX9TyP+GnVA/8E5t/wn29W9Xoja",
      "include_colab_link": true
    },
    "kernelspec": {
      "name": "python3",
      "display_name": "Python 3"
    },
    "accelerator": "GPU"
  },
  "cells": [
    {
      "cell_type": "markdown",
      "metadata": {
        "id": "view-in-github",
        "colab_type": "text"
      },
      "source": [
        "<a href=\"https://colab.research.google.com/github/AakashPatwa/Board-Infinity/blob/master/my_second_notebook.ipynb\" target=\"_parent\"><img src=\"https://colab.research.google.com/assets/colab-badge.svg\" alt=\"Open In Colab\"/></a>"
      ]
    },
    {
      "cell_type": "markdown",
      "metadata": {
        "id": "bNusDdV3lDM3",
        "colab_type": "text"
      },
      "source": [
        "My name is Aakash.\n",
        "This is my second notebook.\n",
        "I am 25 years old.\n",
        "I like listening to music.\n",
        "I have planned my goals and I'm going to work on it."
      ]
    },
    {
      "cell_type": "markdown",
      "metadata": {
        "id": "XnvueqAClV4z",
        "colab_type": "text"
      },
      "source": [
        "I want to become a Data Scientist because I want a high paying job."
      ]
    },
    {
      "cell_type": "code",
      "metadata": {
        "id": "zCI2wTqllu2-",
        "colab_type": "code",
        "colab": {}
      },
      "source": [
        "firstname = 'Aakash'\n",
        "#String first\n",
        "lastname = 'Patwa'\n",
        "#string second\n",
        "cityname = 'Kalyan'\n",
        "#string third"
      ],
      "execution_count": 0,
      "outputs": []
    },
    {
      "cell_type": "code",
      "metadata": {
        "id": "uYp-WDWPmGFU",
        "colab_type": "code",
        "colab": {
          "base_uri": "https://localhost:8080/",
          "height": 34
        },
        "outputId": "faf0910a-1162-43f4-fb14-9fb8afc283c4"
      },
      "source": [
        "firstname"
      ],
      "execution_count": 2,
      "outputs": [
        {
          "output_type": "execute_result",
          "data": {
            "text/plain": [
              "'Aakash'"
            ]
          },
          "metadata": {
            "tags": []
          },
          "execution_count": 2
        }
      ]
    },
    {
      "cell_type": "code",
      "metadata": {
        "id": "iLlJyRqSmLyJ",
        "colab_type": "code",
        "colab": {
          "base_uri": "https://localhost:8080/",
          "height": 34
        },
        "outputId": "d088d739-3676-4473-876e-de5338e6fb35"
      },
      "source": [
        "lastname"
      ],
      "execution_count": 3,
      "outputs": [
        {
          "output_type": "execute_result",
          "data": {
            "text/plain": [
              "'Patwa'"
            ]
          },
          "metadata": {
            "tags": []
          },
          "execution_count": 3
        }
      ]
    },
    {
      "cell_type": "code",
      "metadata": {
        "id": "nvBi4R6KmNTa",
        "colab_type": "code",
        "colab": {
          "base_uri": "https://localhost:8080/",
          "height": 34
        },
        "outputId": "b8e84e2e-7409-4872-9c97-bcb7719d129b"
      },
      "source": [
        "cityname"
      ],
      "execution_count": 4,
      "outputs": [
        {
          "output_type": "execute_result",
          "data": {
            "text/plain": [
              "'Kalyan'"
            ]
          },
          "metadata": {
            "tags": []
          },
          "execution_count": 4
        }
      ]
    },
    {
      "cell_type": "code",
      "metadata": {
        "id": "bWGrhjppmOqw",
        "colab_type": "code",
        "colab": {}
      },
      "source": [
        "age = 25\n",
        "#int first\n",
        "height = 177\n",
        "#int second"
      ],
      "execution_count": 0,
      "outputs": []
    },
    {
      "cell_type": "code",
      "metadata": {
        "id": "ZiCZA8ECm4K-",
        "colab_type": "code",
        "colab": {
          "base_uri": "https://localhost:8080/",
          "height": 34
        },
        "outputId": "023f927d-70a4-4914-8913-4083e42f3c2d"
      },
      "source": [
        "age"
      ],
      "execution_count": 6,
      "outputs": [
        {
          "output_type": "execute_result",
          "data": {
            "text/plain": [
              "25"
            ]
          },
          "metadata": {
            "tags": []
          },
          "execution_count": 6
        }
      ]
    },
    {
      "cell_type": "code",
      "metadata": {
        "id": "BproB0Crm596",
        "colab_type": "code",
        "colab": {
          "base_uri": "https://localhost:8080/",
          "height": 34
        },
        "outputId": "d7234a42-42de-4663-dcd4-d4686e80de8c"
      },
      "source": [
        "height"
      ],
      "execution_count": 7,
      "outputs": [
        {
          "output_type": "execute_result",
          "data": {
            "text/plain": [
              "177"
            ]
          },
          "metadata": {
            "tags": []
          },
          "execution_count": 7
        }
      ]
    },
    {
      "cell_type": "code",
      "metadata": {
        "id": "xhgbyahLm7Yy",
        "colab_type": "code",
        "colab": {}
      },
      "source": [
        "Percentage = {'tenth' : 81.4, 'twelfth' : 55.6}\n",
        "# two floating variables"
      ],
      "execution_count": 0,
      "outputs": []
    },
    {
      "cell_type": "code",
      "metadata": {
        "id": "aXXr0ZhBnsx0",
        "colab_type": "code",
        "colab": {
          "base_uri": "https://localhost:8080/",
          "height": 34
        },
        "outputId": "2f2c2835-65a1-4519-e460-a2e3f37eb138"
      },
      "source": [
        "Percentage "
      ],
      "execution_count": 29,
      "outputs": [
        {
          "output_type": "execute_result",
          "data": {
            "text/plain": [
              "{'tenth': 81.4, 'twelfth': 55.6}"
            ]
          },
          "metadata": {
            "tags": []
          },
          "execution_count": 29
        }
      ]
    },
    {
      "cell_type": "code",
      "metadata": {
        "id": "1Z1dlXoFn4Lt",
        "colab_type": "code",
        "colab": {
          "base_uri": "https://localhost:8080/",
          "height": 34
        },
        "outputId": "8fd8f268-d0c5-4bd8-dd0e-b2229eb178aa"
      },
      "source": [
        "Percentage ['tenth']"
      ],
      "execution_count": 30,
      "outputs": [
        {
          "output_type": "execute_result",
          "data": {
            "text/plain": [
              "81.4"
            ]
          },
          "metadata": {
            "tags": []
          },
          "execution_count": 30
        }
      ]
    },
    {
      "cell_type": "code",
      "metadata": {
        "id": "VoFLUjwXn7OF",
        "colab_type": "code",
        "colab": {
          "base_uri": "https://localhost:8080/",
          "height": 34
        },
        "outputId": "06a3069e-2f4a-4e63-c42b-c05e2f538943"
      },
      "source": [
        "Percentage ['twelfth']"
      ],
      "execution_count": 31,
      "outputs": [
        {
          "output_type": "execute_result",
          "data": {
            "text/plain": [
              "55.6"
            ]
          },
          "metadata": {
            "tags": []
          },
          "execution_count": 31
        }
      ]
    },
    {
      "cell_type": "code",
      "metadata": {
        "id": "M-co61oToEMG",
        "colab_type": "code",
        "colab": {}
      },
      "source": [
        "favourite_numbers = [65.8, 70.8, 82, 55, 50]"
      ],
      "execution_count": 0,
      "outputs": []
    },
    {
      "cell_type": "code",
      "metadata": {
        "id": "RnK-y7cppZ7y",
        "colab_type": "code",
        "colab": {
          "base_uri": "https://localhost:8080/",
          "height": 34
        },
        "outputId": "bf528029-9288-44b9-8735-e4a4a07d7fb3"
      },
      "source": [
        "favourite_numbers [0]"
      ],
      "execution_count": 21,
      "outputs": [
        {
          "output_type": "execute_result",
          "data": {
            "text/plain": [
              "65.8"
            ]
          },
          "metadata": {
            "tags": []
          },
          "execution_count": 21
        }
      ]
    },
    {
      "cell_type": "code",
      "metadata": {
        "id": "gzYx5zxNpden",
        "colab_type": "code",
        "colab": {
          "base_uri": "https://localhost:8080/",
          "height": 34
        },
        "outputId": "5befcd02-8692-4e03-be7c-b3c045665edd"
      },
      "source": [
        "favourite_numbers [4]"
      ],
      "execution_count": 22,
      "outputs": [
        {
          "output_type": "execute_result",
          "data": {
            "text/plain": [
              "50"
            ]
          },
          "metadata": {
            "tags": []
          },
          "execution_count": 22
        }
      ]
    },
    {
      "cell_type": "code",
      "metadata": {
        "id": "b0d02xr9pksd",
        "colab_type": "code",
        "colab": {}
      },
      "source": [
        "my_friends = ['Sandeep', 'Shubham', 'Sneha', 'Ayushie', 'Priyanka']"
      ],
      "execution_count": 0,
      "outputs": []
    },
    {
      "cell_type": "code",
      "metadata": {
        "id": "r0sSbMRxrWWB",
        "colab_type": "code",
        "colab": {
          "base_uri": "https://localhost:8080/",
          "height": 34
        },
        "outputId": "e253a4a3-3750-4a49-f08f-114fbd63a387"
      },
      "source": [
        "my_friends [0]"
      ],
      "execution_count": 25,
      "outputs": [
        {
          "output_type": "execute_result",
          "data": {
            "text/plain": [
              "'Sandeep'"
            ]
          },
          "metadata": {
            "tags": []
          },
          "execution_count": 25
        }
      ]
    },
    {
      "cell_type": "code",
      "metadata": {
        "id": "E_4p-OtprqbT",
        "colab_type": "code",
        "colab": {
          "base_uri": "https://localhost:8080/",
          "height": 34
        },
        "outputId": "214ee92a-b942-4823-ad86-c100def610c5"
      },
      "source": [
        "favourite_numbers [2]"
      ],
      "execution_count": 26,
      "outputs": [
        {
          "output_type": "execute_result",
          "data": {
            "text/plain": [
              "82"
            ]
          },
          "metadata": {
            "tags": []
          },
          "execution_count": 26
        }
      ]
    },
    {
      "cell_type": "code",
      "metadata": {
        "id": "eK3IqbKdsBkU",
        "colab_type": "code",
        "colab": {}
      },
      "source": [
        "myself = {\"Date Of Birth\" : \" 15 AUG 1995\", \"Favourite Colour\" : \"Black\", \"Age\" : \"25\", \n",
        "          \"Gender\" : \"MALE\", \"Name\" : \"Aakash\", \"Favourite Song\" : \"Make You Mine - Ben & Ben\"}\n"
      ],
      "execution_count": 0,
      "outputs": []
    },
    {
      "cell_type": "code",
      "metadata": {
        "id": "Dz7Yw9Qitcf6",
        "colab_type": "code",
        "colab": {
          "base_uri": "https://localhost:8080/",
          "height": 34
        },
        "outputId": "d76daac5-7c87-4e9b-c9d1-77d7a8d2a54e"
      },
      "source": [
        "myself [\"Name\"]       "
      ],
      "execution_count": 16,
      "outputs": [
        {
          "output_type": "execute_result",
          "data": {
            "text/plain": [
              "'Aakash'"
            ]
          },
          "metadata": {
            "tags": []
          },
          "execution_count": 16
        }
      ]
    },
    {
      "cell_type": "code",
      "metadata": {
        "id": "NBJOxqkf_oPc",
        "colab_type": "code",
        "colab": {
          "base_uri": "https://localhost:8080/",
          "height": 34
        },
        "outputId": "c0444518-61a5-4b35-f3ca-32875b7e08a0"
      },
      "source": [
        "myself [\"Gender\"]"
      ],
      "execution_count": 17,
      "outputs": [
        {
          "output_type": "execute_result",
          "data": {
            "text/plain": [
              "'MALE'"
            ]
          },
          "metadata": {
            "tags": []
          },
          "execution_count": 17
        }
      ]
    },
    {
      "cell_type": "code",
      "metadata": {
        "id": "0mLZ4UQRBHBG",
        "colab_type": "code",
        "colab": {}
      },
      "source": [
        "myself [\"Vegetarian\"] = 'TRUE'"
      ],
      "execution_count": 0,
      "outputs": []
    },
    {
      "cell_type": "code",
      "metadata": {
        "id": "huqn83ZFBqkM",
        "colab_type": "code",
        "colab": {
          "base_uri": "https://localhost:8080/",
          "height": 134
        },
        "outputId": "25a3fb62-1331-475c-b47e-e1544c59d845"
      },
      "source": [
        "myself"
      ],
      "execution_count": 19,
      "outputs": [
        {
          "output_type": "execute_result",
          "data": {
            "text/plain": [
              "{'Age': '25',\n",
              " 'Date Of Birth': ' 15 AUG 1995',\n",
              " 'Favourite Colour': 'Black',\n",
              " 'Favourite Song': 'Make You Mine - Ben & Ben',\n",
              " 'Gender': 'MALE',\n",
              " 'Name': 'Aakash',\n",
              " 'Vegetarian': 'TRUE'}"
            ]
          },
          "metadata": {
            "tags": []
          },
          "execution_count": 19
        }
      ]
    },
    {
      "cell_type": "code",
      "metadata": {
        "id": "2i9rHjfIBsaO",
        "colab_type": "code",
        "colab": {}
      },
      "source": [
        ""
      ],
      "execution_count": 0,
      "outputs": []
    }
  ]
}