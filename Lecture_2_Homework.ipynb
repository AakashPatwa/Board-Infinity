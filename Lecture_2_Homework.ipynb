{
  "nbformat": 4,
  "nbformat_minor": 0,
  "metadata": {
    "colab": {
      "name": "Lecture_2_Homework.ipynb",
      "provenance": [],
      "authorship_tag": "ABX9TyOZVBaqinsdVWW8al2pI+ms",
      "include_colab_link": true
    },
    "kernelspec": {
      "name": "python3",
      "display_name": "Python 3"
    }
  },
  "cells": [
    {
      "cell_type": "markdown",
      "metadata": {
        "id": "view-in-github",
        "colab_type": "text"
      },
      "source": [
        "<a href=\"https://colab.research.google.com/github/AakashPatwa/Board-Infinity/blob/master/Lecture_2_Homework.ipynb\" target=\"_parent\"><img src=\"https://colab.research.google.com/assets/colab-badge.svg\" alt=\"Open In Colab\"/></a>"
      ]
    },
    {
      "cell_type": "code",
      "metadata": {
        "id": "6GSQ6GV7HUJy",
        "colab_type": "code",
        "colab": {
          "base_uri": "https://localhost:8080/",
          "height": 34
        },
        "outputId": "1ce53a3f-ff3a-4b3a-ab3d-a86ab738adbd"
      },
      "source": [
        "# IF ELSE STATEMENT\n",
        "#1. Ask the user for his age, if age greater than 18 then print adult, if less then print teenager, remember to set the datatype to an integer like so, int(input())\n",
        "\n",
        "age = 20\n",
        "if age > 18:\n",
        "  print('Adult')\n",
        "else:\n",
        "    print('Teenager')"
      ],
      "execution_count": 1,
      "outputs": [
        {
          "output_type": "stream",
          "text": [
            "Adult\n"
          ],
          "name": "stdout"
        }
      ]
    },
    {
      "cell_type": "code",
      "metadata": {
        "id": "HsufODuQH3Iq",
        "colab_type": "code",
        "colab": {
          "base_uri": "https://localhost:8080/",
          "height": 134
        },
        "outputId": "f82de4c6-8430-4acf-caf1-37d3262d7eeb"
      },
      "source": [
        "#2. Make a personal loan approving system, Ask the user for his monthly income. Then ask him if he has an ongoing loan (yes|no), if the user’s income is more than 100000, and \n",
        "# his answer to an ongoing loan is no then approve his loan, else reject his loan.\n",
        "\n",
        "print('Enter your Monthly Income \\n')\n",
        "Income = int(input())\n",
        "\n",
        "print('Do you have ongoing loan \\n')\n",
        "Ongoing_Loan = str(input())\n",
        "\n",
        "if Income > 100000:\n",
        "  if Ongoing_Loan == 'YES':\n",
        "    print('Sorry Your Loan Is Rejected')\n",
        "  else:\n",
        "      print('Congratulation Loan Is Approved')\n",
        "else:\n",
        "  print('Sorry Your Loan Is Rejected')"
      ],
      "execution_count": 2,
      "outputs": [
        {
          "output_type": "stream",
          "text": [
            "Enter your Monthly Income \n",
            "\n",
            "120000\n",
            "Do you have ongoing loan \n",
            "\n",
            "no\n",
            "Congratulation Loan Is Approved\n"
          ],
          "name": "stdout"
        }
      ]
    },
    {
      "cell_type": "code",
      "metadata": {
        "id": "HY8ksQAWIsng",
        "colab_type": "code",
        "colab": {
          "base_uri": "https://localhost:8080/",
          "height": 67
        },
        "outputId": "c1fac21e-8fe2-4e77-9774-bdf7b6fc1e06"
      },
      "source": [
        "#3. Ask the user if Female (yes|no), if ‘yes’ then print ‘You are a Girl’ else print, ‘You are a boy'\n",
        "\n",
        "print('Are you Female?')\n",
        "gender = str(input())\n",
        "\n",
        "if gender == 'yes':\n",
        "  print('You are a Girl')\n",
        "else:\n",
        "    print('You are a Boy')\n"
      ],
      "execution_count": 3,
      "outputs": [
        {
          "output_type": "stream",
          "text": [
            "Are you Female?\n",
            "No\n",
            "You are a Boy\n"
          ],
          "name": "stdout"
        }
      ]
    },
    {
      "cell_type": "code",
      "metadata": {
        "id": "b8JEkzvrJXoe",
        "colab_type": "code",
        "colab": {
          "base_uri": "https://localhost:8080/",
          "height": 151
        },
        "outputId": "7f88bafe-0676-4a68-ca23-255cce43ed5a"
      },
      "source": [
        "#LOOPS\n",
        "#1. Make a list of random numbers and print them all using a for loop\n",
        "\n",
        "Numbers = [25, 26, 33, 34, 69, 70, 35, 36]\n",
        "\n",
        "for list in Numbers:\n",
        "  print(list)"
      ],
      "execution_count": 4,
      "outputs": [
        {
          "output_type": "stream",
          "text": [
            "25\n",
            "26\n",
            "33\n",
            "34\n",
            "69\n",
            "70\n",
            "35\n",
            "36\n"
          ],
          "name": "stdout"
        }
      ]
    },
    {
      "cell_type": "code",
      "metadata": {
        "id": "KUoTcBxVKE79",
        "colab_type": "code",
        "colab": {
          "base_uri": "https://localhost:8080/",
          "height": 84
        },
        "outputId": "12d80d46-108d-43ab-e4cf-b6df2faf2b7a"
      },
      "source": [
        "#2 Make a list of random number and print only even numbers\n",
        "\n",
        "Nums = [25, 26, 33, 34, 69, 70, 35, 36]\n",
        "\n",
        "for x in Nums:\n",
        "  if x%2 == 0:\n",
        "    print(x)"
      ],
      "execution_count": 5,
      "outputs": [
        {
          "output_type": "stream",
          "text": [
            "26\n",
            "34\n",
            "70\n",
            "36\n"
          ],
          "name": "stdout"
        }
      ]
    },
    {
      "cell_type": "code",
      "metadata": {
        "id": "Dhi1S7NaKZgW",
        "colab_type": "code",
        "colab": {
          "base_uri": "https://localhost:8080/",
          "height": 84
        },
        "outputId": "ee49da51-56a2-4c78-b79e-e249648e8b0a"
      },
      "source": [
        "#3. Make a dictionary called (myself) with the following keys (name, age, gender and favourite food) and using a for loop print out only the keys\n",
        "\n",
        "Myself = {'Name' : 'Aakash', 'Age' : '25', 'Gender' : 'Male', 'Favourite Food' : 'Pizza'}\n",
        "\n",
        "for x in Myself:\n",
        "  print(x)"
      ],
      "execution_count": 12,
      "outputs": [
        {
          "output_type": "stream",
          "text": [
            "Name\n",
            "Age\n",
            "Gender\n",
            "Favourite Food\n"
          ],
          "name": "stdout"
        }
      ]
    },
    {
      "cell_type": "code",
      "metadata": {
        "id": "Nur2gG2zLLv8",
        "colab_type": "code",
        "colab": {
          "base_uri": "https://localhost:8080/",
          "height": 84
        },
        "outputId": "49a2d2f2-0af1-49ad-ea6f-789707540951"
      },
      "source": [
        "#4. From the dictionary ‘myself’, print only the values\n",
        "\n",
        "for x in Myself:\n",
        "  print(Myself[x])"
      ],
      "execution_count": 14,
      "outputs": [
        {
          "output_type": "stream",
          "text": [
            "Aakash\n",
            "25\n",
            "Male\n",
            "Pizza\n"
          ],
          "name": "stdout"
        }
      ]
    },
    {
      "cell_type": "code",
      "metadata": {
        "id": "Ro10uJbfMp1F",
        "colab_type": "code",
        "colab": {
          "base_uri": "https://localhost:8080/",
          "height": 50
        },
        "outputId": "c8af1f1b-83c7-442b-fdfd-0010e673abe1"
      },
      "source": [
        "# Methods | Functions\n",
        "#1. Create a method that takes the persons name as argument and returns it\n",
        "\n",
        "def  name(Name):\n",
        "    print(Name)\n",
        "Name = input('Enter Your Name : ')\n",
        "name(Name)\n",
        " "
      ],
      "execution_count": 15,
      "outputs": [
        {
          "output_type": "stream",
          "text": [
            "Enter Your Name : Aakash\n",
            "Aakash\n"
          ],
          "name": "stdout"
        }
      ]
    },
    {
      "cell_type": "code",
      "metadata": {
        "id": "SbMng1VhQEey",
        "colab_type": "code",
        "colab": {}
      },
      "source": [
        "#2. Create a function that takes a dictionary as an input and prints all the keys of the dictionary\n",
        "\n",
        "Myself = {'Name' : 'Aakash', 'Age' : '25', 'Gender' : 'Male', 'Favourite Food' : 'Pizza'}\n",
        "def print_keys(x):\n",
        "  return x.keys()"
      ],
      "execution_count": 0,
      "outputs": []
    },
    {
      "cell_type": "code",
      "metadata": {
        "id": "jRrTTngzRQsh",
        "colab_type": "code",
        "colab": {
          "base_uri": "https://localhost:8080/",
          "height": 34
        },
        "outputId": "0ab49646-fbfe-488a-a811-498071e1cd4d"
      },
      "source": [
        "print_keys(Myself)"
      ],
      "execution_count": 19,
      "outputs": [
        {
          "output_type": "execute_result",
          "data": {
            "text/plain": [
              "dict_keys(['Name', 'Age', 'Gender', 'Favourite Food'])"
            ]
          },
          "metadata": {
            "tags": []
          },
          "execution_count": 19
        }
      ]
    },
    {
      "cell_type": "code",
      "metadata": {
        "id": "pNubW93iRXZ-",
        "colab_type": "code",
        "colab": {}
      },
      "source": [
        "#3. Create a function that takes a list of 10 random numbers and prints out only odd numbers\n",
        "\n",
        "numbers = [1, 2, 3, 4, 5, 6, 7, 8, 9, 10]\n",
        "def odd_num(x):\n",
        "  for x in numbers:\n",
        "    if x%2 !=0:\n",
        "      print(x)\n"
      ],
      "execution_count": 0,
      "outputs": []
    },
    {
      "cell_type": "code",
      "metadata": {
        "id": "NrY-AvZ5SWA-",
        "colab_type": "code",
        "colab": {
          "base_uri": "https://localhost:8080/",
          "height": 101
        },
        "outputId": "0a7fca2c-7eb9-4642-ce26-70a0b5d01db2"
      },
      "source": [
        "odd_num(numbers)"
      ],
      "execution_count": 21,
      "outputs": [
        {
          "output_type": "stream",
          "text": [
            "1\n",
            "3\n",
            "5\n",
            "7\n",
            "9\n"
          ],
          "name": "stdout"
        }
      ]
    },
    {
      "cell_type": "code",
      "metadata": {
        "id": "JRsLbft_SdAy",
        "colab_type": "code",
        "colab": {}
      },
      "source": [
        "#Type conversion\n",
        "# define 4 variables of type,string, float, integer and boolean print the data type for each variables\n",
        "\n",
        "\n",
        "Name = (\"aniruddha\") # string variable\n",
        "Height = 180.4 # float vairable\n",
        "Age = 25 # integer variable \n",
        "Male = True #boolean variable"
      ],
      "execution_count": 0,
      "outputs": []
    },
    {
      "cell_type": "code",
      "metadata": {
        "id": "DUUQTQxHTuI7",
        "colab_type": "code",
        "colab": {
          "base_uri": "https://localhost:8080/",
          "height": 34
        },
        "outputId": "2336089a-2614-4b8c-9220-0aaa77d7e69a"
      },
      "source": [
        "type(Name)"
      ],
      "execution_count": 25,
      "outputs": [
        {
          "output_type": "execute_result",
          "data": {
            "text/plain": [
              "str"
            ]
          },
          "metadata": {
            "tags": []
          },
          "execution_count": 25
        }
      ]
    },
    {
      "cell_type": "code",
      "metadata": {
        "id": "bKrYDl4TUF3n",
        "colab_type": "code",
        "colab": {
          "base_uri": "https://localhost:8080/",
          "height": 34
        },
        "outputId": "27814ff0-8422-4c27-e7d3-fcec71004f10"
      },
      "source": [
        "type(Height)"
      ],
      "execution_count": 26,
      "outputs": [
        {
          "output_type": "execute_result",
          "data": {
            "text/plain": [
              "float"
            ]
          },
          "metadata": {
            "tags": []
          },
          "execution_count": 26
        }
      ]
    },
    {
      "cell_type": "code",
      "metadata": {
        "id": "pt_WXnLJUQZv",
        "colab_type": "code",
        "colab": {
          "base_uri": "https://localhost:8080/",
          "height": 34
        },
        "outputId": "eaaf6e2a-13c7-4011-8950-c687491ea3d1"
      },
      "source": [
        "type(Age)"
      ],
      "execution_count": 27,
      "outputs": [
        {
          "output_type": "execute_result",
          "data": {
            "text/plain": [
              "int"
            ]
          },
          "metadata": {
            "tags": []
          },
          "execution_count": 27
        }
      ]
    },
    {
      "cell_type": "code",
      "metadata": {
        "id": "YZ4raofFUST7",
        "colab_type": "code",
        "colab": {
          "base_uri": "https://localhost:8080/",
          "height": 34
        },
        "outputId": "d15f7701-7c0c-4876-af6c-53a4905fd0d3"
      },
      "source": [
        "type(Male)"
      ],
      "execution_count": 28,
      "outputs": [
        {
          "output_type": "execute_result",
          "data": {
            "text/plain": [
              "bool"
            ]
          },
          "metadata": {
            "tags": []
          },
          "execution_count": 28
        }
      ]
    },
    {
      "cell_type": "code",
      "metadata": {
        "id": "0Na0FlhEUUUV",
        "colab_type": "code",
        "colab": {
          "base_uri": "https://localhost:8080/",
          "height": 34
        },
        "outputId": "574fb1e9-85c5-423e-95ab-a0faed1233ce"
      },
      "source": [
        "# int to float\n",
        "Age = 25\n",
        "float(age)"
      ],
      "execution_count": 34,
      "outputs": [
        {
          "output_type": "execute_result",
          "data": {
            "text/plain": [
              "25.0"
            ]
          },
          "metadata": {
            "tags": []
          },
          "execution_count": 34
        }
      ]
    },
    {
      "cell_type": "code",
      "metadata": {
        "id": "nsZkOPmEUnVp",
        "colab_type": "code",
        "colab": {
          "base_uri": "https://localhost:8080/",
          "height": 34
        },
        "outputId": "5372ebb7-2674-4554-8e47-6b3e8548c03d"
      },
      "source": [
        "# str to int\n",
        "Age = \"25\"\n",
        "int(age)"
      ],
      "execution_count": 33,
      "outputs": [
        {
          "output_type": "execute_result",
          "data": {
            "text/plain": [
              "25"
            ]
          },
          "metadata": {
            "tags": []
          },
          "execution_count": 33
        }
      ]
    },
    {
      "cell_type": "code",
      "metadata": {
        "id": "EynkYDlUU6BA",
        "colab_type": "code",
        "colab": {
          "base_uri": "https://localhost:8080/",
          "height": 34
        },
        "outputId": "a8f875be-688a-4c16-cd27-369b9c47f54c"
      },
      "source": [
        "# int to str\n",
        "age = 25\n",
        "str(Age)"
      ],
      "execution_count": 32,
      "outputs": [
        {
          "output_type": "execute_result",
          "data": {
            "text/plain": [
              "'25'"
            ]
          },
          "metadata": {
            "tags": []
          },
          "execution_count": 32
        }
      ]
    },
    {
      "cell_type": "code",
      "metadata": {
        "id": "S4j25EHEVGYk",
        "colab_type": "code",
        "colab": {
          "base_uri": "https://localhost:8080/",
          "height": 34
        },
        "outputId": "e7f92201-6d74-4d4d-b209-9151161c8c5f"
      },
      "source": [
        "# bool to str\n",
        "Male = True\n",
        "str(Male)"
      ],
      "execution_count": 35,
      "outputs": [
        {
          "output_type": "execute_result",
          "data": {
            "text/plain": [
              "'True'"
            ]
          },
          "metadata": {
            "tags": []
          },
          "execution_count": 35
        }
      ]
    },
    {
      "cell_type": "code",
      "metadata": {
        "id": "1nxjJPl9VUOe",
        "colab_type": "code",
        "colab": {
          "base_uri": "https://localhost:8080/",
          "height": 101
        },
        "outputId": "394189b0-b591-436c-dc2b-7da4cf7a4b8a"
      },
      "source": [
        "!pip install sklearn"
      ],
      "execution_count": 36,
      "outputs": [
        {
          "output_type": "stream",
          "text": [
            "Requirement already satisfied: sklearn in /usr/local/lib/python3.6/dist-packages (0.0)\n",
            "Requirement already satisfied: scikit-learn in /usr/local/lib/python3.6/dist-packages (from sklearn) (0.22.1)\n",
            "Requirement already satisfied: numpy>=1.11.0 in /usr/local/lib/python3.6/dist-packages (from scikit-learn->sklearn) (1.17.5)\n",
            "Requirement already satisfied: scipy>=0.17.0 in /usr/local/lib/python3.6/dist-packages (from scikit-learn->sklearn) (1.4.1)\n",
            "Requirement already satisfied: joblib>=0.11 in /usr/local/lib/python3.6/dist-packages (from scikit-learn->sklearn) (0.14.1)\n"
          ],
          "name": "stdout"
        }
      ]
    },
    {
      "cell_type": "code",
      "metadata": {
        "id": "xGJQOzRpV_N-",
        "colab_type": "code",
        "colab": {}
      },
      "source": [
        "from sklearn import datasets\n"
      ],
      "execution_count": 0,
      "outputs": []
    },
    {
      "cell_type": "code",
      "metadata": {
        "id": "4COhRWHDXlwy",
        "colab_type": "code",
        "colab": {}
      },
      "source": [
        "from sklearn.ensemble import RandomForestClassifier"
      ],
      "execution_count": 0,
      "outputs": []
    },
    {
      "cell_type": "code",
      "metadata": {
        "id": "Va3ch3yKXrL-",
        "colab_type": "code",
        "colab": {}
      },
      "source": [
        "from sklearn.naive_bayes import GaussianNB"
      ],
      "execution_count": 0,
      "outputs": []
    },
    {
      "cell_type": "code",
      "metadata": {
        "id": "Ql-3hLyNXupF",
        "colab_type": "code",
        "colab": {}
      },
      "source": [
        "from sklearn.tree import DecisionTreeClassifier"
      ],
      "execution_count": 0,
      "outputs": []
    },
    {
      "cell_type": "code",
      "metadata": {
        "id": "JIwJ1GuEXyPD",
        "colab_type": "code",
        "colab": {}
      },
      "source": [
        "from sklearn.linear_model import LinearRegression"
      ],
      "execution_count": 0,
      "outputs": []
    },
    {
      "cell_type": "code",
      "metadata": {
        "id": "lSwm7DubX02j",
        "colab_type": "code",
        "colab": {}
      },
      "source": [
        "from sklearn.cluster import KMeans"
      ],
      "execution_count": 0,
      "outputs": []
    },
    {
      "cell_type": "code",
      "metadata": {
        "id": "nkMDYQUOX3ZQ",
        "colab_type": "code",
        "colab": {}
      },
      "source": [
        "from sklearn.model_selection import train_test_split"
      ],
      "execution_count": 0,
      "outputs": []
    },
    {
      "cell_type": "code",
      "metadata": {
        "id": "HyAyvy6CX6ta",
        "colab_type": "code",
        "colab": {}
      },
      "source": [
        "from sklearn.metrics import classification_report"
      ],
      "execution_count": 0,
      "outputs": []
    },
    {
      "cell_type": "code",
      "metadata": {
        "id": "RvT-mEsrX9GY",
        "colab_type": "code",
        "colab": {}
      },
      "source": [
        "from sklearn.metrics import accuracy_score"
      ],
      "execution_count": 0,
      "outputs": []
    },
    {
      "cell_type": "code",
      "metadata": {
        "id": "n4qM4AoXX_zw",
        "colab_type": "code",
        "colab": {}
      },
      "source": [
        ""
      ],
      "execution_count": 0,
      "outputs": []
    }
  ]
}