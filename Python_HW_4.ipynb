{
  "nbformat": 4,
  "nbformat_minor": 0,
  "metadata": {
    "colab": {
      "name": "Python_HW_4.ipynb",
      "provenance": [],
      "collapsed_sections": [],
      "authorship_tag": "ABX9TyMPx8eQcb83r77HD82Z8E5N",
      "include_colab_link": true
    },
    "kernelspec": {
      "name": "python3",
      "display_name": "Python 3"
    }
  },
  "cells": [
    {
      "cell_type": "markdown",
      "metadata": {
        "id": "view-in-github",
        "colab_type": "text"
      },
      "source": [
        "<a href=\"https://colab.research.google.com/github/AakashPatwa/Board-Infinity/blob/master/Python_HW_4.ipynb\" target=\"_parent\"><img src=\"https://colab.research.google.com/assets/colab-badge.svg\" alt=\"Open In Colab\"/></a>"
      ]
    },
    {
      "cell_type": "markdown",
      "metadata": {
        "id": "VngkAgtrOo5b",
        "colab_type": "text"
      },
      "source": [
        "1. Write a Python program which accepts the radius of a circle from the user and compute the area.\n"
      ]
    },
    {
      "cell_type": "code",
      "metadata": {
        "id": "KU9ekxPZOtC4",
        "colab_type": "code",
        "colab": {}
      },
      "source": [
        "import math as m\n"
      ],
      "execution_count": 0,
      "outputs": []
    },
    {
      "cell_type": "code",
      "metadata": {
        "id": "PdqbbzZVO3kR",
        "colab_type": "code",
        "outputId": "9777c073-5fda-482d-c17b-7a97de653f8f",
        "colab": {
          "base_uri": "https://localhost:8080/",
          "height": 50
        }
      },
      "source": [
        "from math import pi\n",
        "R = float(input('Input radius of circle : '))\n",
        "area = m.pi*R**2\n",
        "print('Area of circle with radius', R, 'is', area)"
      ],
      "execution_count": 0,
      "outputs": [
        {
          "output_type": "stream",
          "text": [
            "Input radius of circle : 5\n",
            "Area of circle with radius 5.0 is 78.53981633974483\n"
          ],
          "name": "stdout"
        }
      ]
    },
    {
      "cell_type": "markdown",
      "metadata": {
        "id": "-XnSbZuBvexR",
        "colab_type": "text"
      },
      "source": [
        "2. Write a Python program which accepts the user's first and last name and print them in reverse order with a space between them."
      ]
    },
    {
      "cell_type": "code",
      "metadata": {
        "id": "LBeYtUffvnqY",
        "colab_type": "code",
        "outputId": "16d1a487-0f10-44a9-dc1d-e251509ea688",
        "colab": {
          "base_uri": "https://localhost:8080/",
          "height": 67
        }
      },
      "source": [
        "fname = input('Enter your First Name : ' )\n",
        "lname = input('Enter your Last Name : ')\n",
        "name = lname + ' ' + fname \n",
        "print (name)"
      ],
      "execution_count": 0,
      "outputs": [
        {
          "output_type": "stream",
          "text": [
            "Enter your First Name : Aakash\n",
            "Enter your Last Name : Patwa\n",
            "Patwa Aakash\n"
          ],
          "name": "stdout"
        }
      ]
    },
    {
      "cell_type": "markdown",
      "metadata": {
        "id": "quadWmeTvx3o",
        "colab_type": "text"
      },
      "source": [
        "3. Write a Python program which checks if the input number is divisible by 3 or not."
      ]
    },
    {
      "cell_type": "code",
      "metadata": {
        "id": "_AAPOAozv3rL",
        "colab_type": "code",
        "outputId": "b940baec-8f68-487e-f21f-1fb845340058",
        "colab": {
          "base_uri": "https://localhost:8080/",
          "height": 50
        }
      },
      "source": [
        "num = float(input('Enter Desired Number '))\n",
        "if num%3==0:\n",
        "    print('Number is divisible by 3')\n",
        "else:\n",
        "    print('Number is not divisible by 3')"
      ],
      "execution_count": 0,
      "outputs": [
        {
          "output_type": "stream",
          "text": [
            "Enter Desired Number 21\n",
            "Number is divisible by 3\n"
          ],
          "name": "stdout"
        }
      ]
    },
    {
      "cell_type": "markdown",
      "metadata": {
        "id": "ReJMqI6NwDvE",
        "colab_type": "text"
      },
      "source": [
        "4. Write a Python program to implement 5 functions of the math module (other than what was taught in the session).\n",
        "    1. Ceiling \n",
        "    2. Floor\n",
        "    3. Exponential\n",
        "    4. Log Base2\n",
        "    5. Square Root"
      ]
    },
    {
      "cell_type": "code",
      "metadata": {
        "id": "NcsyKqClwVga",
        "colab_type": "code",
        "outputId": "bf72c03d-4987-48fa-aa5f-8a1e4c5232b8",
        "colab": {
          "base_uri": "https://localhost:8080/",
          "height": 50
        }
      },
      "source": [
        "import math  \n",
        "num1 = float(input('Enter float value to check Ceiling of the number : ', ))\n",
        "math.ceil(num1)"
      ],
      "execution_count": 0,
      "outputs": [
        {
          "output_type": "stream",
          "text": [
            "Enter float value to check Ceiling of the number : 24.3\n"
          ],
          "name": "stdout"
        },
        {
          "output_type": "execute_result",
          "data": {
            "text/plain": [
              "25"
            ]
          },
          "metadata": {
            "tags": []
          },
          "execution_count": 14
        }
      ]
    },
    {
      "cell_type": "code",
      "metadata": {
        "id": "ertwXwAswg3p",
        "colab_type": "code",
        "outputId": "ebb98ca5-64a4-44fa-c497-df588da5d472",
        "colab": {
          "base_uri": "https://localhost:8080/",
          "height": 50
        }
      },
      "source": [
        "num2 = float(input('Enter float value to check Floor of the number : ', ))\n",
        "math.floor(num2)"
      ],
      "execution_count": 0,
      "outputs": [
        {
          "output_type": "stream",
          "text": [
            "Enter float value to check Floor of the number : 24.3\n"
          ],
          "name": "stdout"
        },
        {
          "output_type": "execute_result",
          "data": {
            "text/plain": [
              "24"
            ]
          },
          "metadata": {
            "tags": []
          },
          "execution_count": 15
        }
      ]
    },
    {
      "cell_type": "code",
      "metadata": {
        "id": "of3S5TIlwuqc",
        "colab_type": "code",
        "outputId": "79e0b42f-95ba-4563-f18f-ecadb54dbe22",
        "colab": {
          "base_uri": "https://localhost:8080/",
          "height": 67
        }
      },
      "source": [
        "num3 = int(input('Please enter any Positive Integer : '))\n",
        "exponent = int(input('Please enter Exponent Value : '))\n",
        "power = 1\n",
        "\n",
        "for i in range(1, exponent + 1):\n",
        "    power = power * num3\n",
        "    \n",
        "print('The Result of ', num3, 'Power', exponent, 'is :', power )"
      ],
      "execution_count": 0,
      "outputs": [
        {
          "output_type": "stream",
          "text": [
            "Please enter any Positive Integer : 5\n",
            "Please enter Exponent Value : 4\n",
            "The Result of  5 Power 4 is : 625\n"
          ],
          "name": "stdout"
        }
      ]
    },
    {
      "cell_type": "code",
      "metadata": {
        "id": "1zjTR8_Uwz2z",
        "colab_type": "code",
        "outputId": "08a520c5-eb8d-4c7c-f72f-5ecca4c3b646",
        "colab": {
          "base_uri": "https://localhost:8080/",
          "height": 50
        }
      },
      "source": [
        "num4 = int(input('Enter the number to find the Base 2 log value : ')) \n",
        "print('Logarithm base 2 is : ', (math.log2(num4)))"
      ],
      "execution_count": 0,
      "outputs": [
        {
          "output_type": "stream",
          "text": [
            "Enter the number to find the Base 2 log value : 2\n",
            "Logarithm base 2 is :  1.0\n"
          ],
          "name": "stdout"
        }
      ]
    },
    {
      "cell_type": "code",
      "metadata": {
        "id": "Nn1Cq3_9w4Gj",
        "colab_type": "code",
        "outputId": "c2bdae2c-d6ea-413f-ed28-2c49e2ccbf3c",
        "colab": {
          "base_uri": "https://localhost:8080/",
          "height": 50
        }
      },
      "source": [
        "num5 = float(input('Enter a number: '))\n",
        "num_sqrt = num5 ** 0.5\n",
        "print('Sqare root of ', num5, 'is :', num_sqrt)"
      ],
      "execution_count": 0,
      "outputs": [
        {
          "output_type": "stream",
          "text": [
            "Enter a number: 729\n",
            "Sqare root of  729.0 is : 27.0\n"
          ],
          "name": "stdout"
        }
      ]
    },
    {
      "cell_type": "markdown",
      "metadata": {
        "id": "44dAy7jtxEM3",
        "colab_type": "text"
      },
      "source": [
        "5. WAP to do a sum of squares.\n"
      ]
    },
    {
      "cell_type": "code",
      "metadata": {
        "id": "_awOb3xPxKtx",
        "colab_type": "code",
        "outputId": "03b2dd80-d49b-444f-b347-949d5154cfcd",
        "colab": {
          "base_uri": "https://localhost:8080/",
          "height": 50
        }
      },
      "source": [
        "import numpy as np\n",
        "num = int(input('Enter N natural number: ')) \n",
        "nums = np.arange(1,num+1)  \n",
        "sqnum = np.square(nums)\n",
        "\n",
        "Sum = 0\n",
        "for i in range(0,len(sqnum)):\n",
        "  Sum = Sum + sqnum[i]\n",
        "print ('Sum of square of number till', num , 'is :' , Sum)"
      ],
      "execution_count": 0,
      "outputs": [
        {
          "output_type": "stream",
          "text": [
            "Enter N natural number: 5\n",
            "Sum of square of number till 5 is : 55\n"
          ],
          "name": "stdout"
        }
      ]
    },
    {
      "cell_type": "markdown",
      "metadata": {
        "id": "onRQmYZ3xeW4",
        "colab_type": "text"
      },
      "source": [
        "6. Write a void function that receives a 4 digit number and calculates the sum of squares of first 2 digits number and last two-digit number (Hint:- if 1233 is passed as an argument then the function should calculate 12**2+33**2)"
      ]
    },
    {
      "cell_type": "code",
      "metadata": {
        "id": "Ru1nXWE_xlai",
        "colab_type": "code",
        "outputId": "dd1e023d-2781-4de9-f156-a6acec04c283",
        "colab": {
          "base_uri": "https://localhost:8080/",
          "height": 50
        }
      },
      "source": [
        "num = input('Enter 4 digit number : ')\n",
        "num_1 = num[0]+num[1]\n",
        "num_2 = num[2]+num[3]\n",
        "num_1 = int(num_1)\n",
        "num_1 = num_1**2\n",
        "num_2 = int(num_2)\n",
        "num_2 = num_2**2\n",
        "print('Sum is:', num_1 + num_2)"
      ],
      "execution_count": 0,
      "outputs": [
        {
          "output_type": "stream",
          "text": [
            "Enter 4 digit number : 1234\n",
            "Sum is: 1300\n"
          ],
          "name": "stdout"
        }
      ]
    },
    {
      "cell_type": "markdown",
      "metadata": {
        "id": "wHrAoClq1vtj",
        "colab_type": "text"
      },
      "source": [
        "7. Write a function that takes one argument (a +ve int) and report if the argument is prime or not. WAP that invokes this function.\n"
      ]
    },
    {
      "cell_type": "code",
      "metadata": {
        "id": "2xhFFyLS11Y6",
        "colab_type": "code",
        "colab": {
          "base_uri": "https://localhost:8080/",
          "height": 50
        },
        "outputId": "3779a0ed-24e4-4afd-a651-49d4fdb5cd3e"
      },
      "source": [
        "number = int(input(\"Enter any number: \"))\n",
        "\n",
        "if number > 1:   #prime is always >1\n",
        "    for i in range(2, number):\n",
        "        if (number % i) == 0:\n",
        "            print(number, \"is not a prime number\")\n",
        "            break\n",
        "    else:\n",
        "        print(number, \"is a prime number\")\n",
        "else:\n",
        "    print(number, \"is not a prime number\")\n"
      ],
      "execution_count": 11,
      "outputs": [
        {
          "output_type": "stream",
          "text": [
            "Enter any number: 3\n",
            "3 is a prime number\n"
          ],
          "name": "stdout"
        }
      ]
    },
    {
      "cell_type": "markdown",
      "metadata": {
        "id": "o5qgxHwH-bfk",
        "colab_type": "text"
      },
      "source": [
        "8. WAP that takes a character (i.e a string of length 1) and returns TRUE if it is a vowel, FALSE otherwise. (Hint: Make use of logical operator)"
      ]
    },
    {
      "cell_type": "code",
      "metadata": {
        "id": "dH9QBc1B-hhn",
        "colab_type": "code",
        "colab": {
          "base_uri": "https://localhost:8080/",
          "height": 50
        },
        "outputId": "138ca03f-3b26-49a7-c06f-8dcfd4a0f503"
      },
      "source": [
        "vowels = ['a','e','i','o','u','A','E','I','O','U']\n",
        "char = input('Enter Any Character: ')\n",
        "result = char in vowels\n",
        "if result == True:\n",
        "  print( char,'Is A Vowel')\n",
        "else:\n",
        "  print(char,'Is Not A Vowel')"
      ],
      "execution_count": 3,
      "outputs": [
        {
          "output_type": "stream",
          "text": [
            "Enter Any Character: B\n",
            "B Is Not A Vowel\n"
          ],
          "name": "stdout"
        }
      ]
    },
    {
      "cell_type": "markdown",
      "metadata": {
        "id": "Fxuc0NctEIzA",
        "colab_type": "text"
      },
      "source": [
        "9. WAP to get the last digit cube.\n"
      ]
    },
    {
      "cell_type": "code",
      "metadata": {
        "id": "YN94p-YaEQcA",
        "colab_type": "code",
        "colab": {
          "base_uri": "https://localhost:8080/",
          "height": 50
        },
        "outputId": "acd9f268-f26c-46a6-f0bf-8761273eef11"
      },
      "source": [
        "no = input('Enter Any Number: ')\n",
        "cube = int(no[-1])\n",
        "print('The cube of last digit is: ', cube**3)"
      ],
      "execution_count": 8,
      "outputs": [
        {
          "output_type": "stream",
          "text": [
            "Enter Any Number: 123456\n",
            "The cube of last digit is:  216\n"
          ],
          "name": "stdout"
        }
      ]
    },
    {
      "cell_type": "markdown",
      "metadata": {
        "id": "Uch5AQrcFf72",
        "colab_type": "text"
      },
      "source": [
        "10.Write a Python program that takes a list and returns a new list with unique\n",
        "elements of the first list."
      ]
    },
    {
      "cell_type": "code",
      "metadata": {
        "id": "MgOFAbtMEnQC",
        "colab_type": "code",
        "colab": {
          "base_uri": "https://localhost:8080/",
          "height": 67
        },
        "outputId": "0c7ccd8a-3817-4a7d-8121-82fafb645235"
      },
      "source": [
        "my_list = input('Enter a list :')\n",
        "print('Original List : ',my_list)\n",
        "my_set = set(my_list)\n",
        "my_new_list = list(my_set)\n",
        "print('List of unique numbers : ',my_new_list)"
      ],
      "execution_count": 24,
      "outputs": [
        {
          "output_type": "stream",
          "text": [
            "Enter a list :Missisippi\n",
            "Original List :  Missisippi\n",
            "List of unique numbers :  ['i', 'p', 'M', 's']\n"
          ],
          "name": "stdout"
        }
      ]
    },
    {
      "cell_type": "code",
      "metadata": {
        "id": "w9O7Fr31Gu7g",
        "colab_type": "code",
        "colab": {}
      },
      "source": [
        ""
      ],
      "execution_count": 0,
      "outputs": []
    }
  ]
}